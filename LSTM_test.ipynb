{
 "cells": [
  {
   "cell_type": "code",
   "execution_count": 26,
   "id": "0d55326c",
   "metadata": {},
   "outputs": [],
   "source": [
    "import pandas as pd\n",
    "commodity = 'corn'\n",
    "import utils\n",
    "import numpy as np"
   ]
  },
  {
   "cell_type": "code",
   "execution_count": 17,
   "id": "22de5d6b",
   "metadata": {},
   "outputs": [
    {
     "name": "stdout",
     "output_type": "stream",
     "text": [
      "The autoreload extension is already loaded. To reload it, use:\n",
      "  %reload_ext autoreload\n"
     ]
    }
   ],
   "source": [
    "%load_ext autoreload\n",
    "%autoreload 2"
   ]
  },
  {
   "cell_type": "code",
   "execution_count": 163,
   "id": "2d81a18d",
   "metadata": {},
   "outputs": [],
   "source": [
    "import dataloader\n",
    "import LSTM"
   ]
  },
  {
   "cell_type": "code",
   "execution_count": 171,
   "id": "653e425a",
   "metadata": {},
   "outputs": [],
   "source": [
    "train_loader = dataloader.get_dataloader('corn', 20, 'train', 10)\n",
    "validation_loader = dataloader.get_dataloader('corn', 20, 'val', 20)"
   ]
  },
  {
   "cell_type": "code",
   "execution_count": 174,
   "id": "9f630805",
   "metadata": {},
   "outputs": [],
   "source": [
    "model = LSTM.CommodityLSTM()"
   ]
  },
  {
   "cell_type": "code",
   "execution_count": null,
   "id": "1e9c20bc",
   "metadata": {},
   "outputs": [
    {
     "name": "stdout",
     "output_type": "stream",
     "text": [
      "TRAINING BATCH LOSS AT STEP 0: 0.21180841326713562\n",
      "VALIDATION BATCH LOSS AT STEP 0: 0.20851445198059082\n",
      "TRAINING BATCH LOSS AT STEP 1: 0.21229520440101624\n",
      "VALIDATION BATCH LOSS AT STEP 1: 0.20625078678131104\n",
      "TRAINING BATCH LOSS AT STEP 2: 0.20882990956306458\n",
      "VALIDATION BATCH LOSS AT STEP 2: 0.2039884626865387\n",
      "TRAINING BATCH LOSS AT STEP 3: 0.21214628219604492\n",
      "VALIDATION BATCH LOSS AT STEP 3: 0.20172683894634247\n",
      "TRAINING BATCH LOSS AT STEP 4: 0.19908134639263153\n",
      "VALIDATION BATCH LOSS AT STEP 4: 0.1994677484035492\n",
      "TRAINING BATCH LOSS AT STEP 5: 0.20198872685432434\n",
      "VALIDATION BATCH LOSS AT STEP 5: 0.1972099393606186\n",
      "TRAINING BATCH LOSS AT STEP 6: 0.19553595781326294\n",
      "VALIDATION BATCH LOSS AT STEP 6: 0.19495435059070587\n",
      "TRAINING BATCH LOSS AT STEP 7: 0.19668325781822205\n",
      "VALIDATION BATCH LOSS AT STEP 7: 0.19270016252994537\n"
     ]
    }
   ],
   "source": [
    "model.train(train_loader, validation_loader)"
   ]
  },
  {
   "cell_type": "code",
   "execution_count": null,
   "id": "6b7f44aa",
   "metadata": {},
   "outputs": [],
   "source": []
  }
 ],
 "metadata": {
  "kernelspec": {
   "display_name": "gcm",
   "language": "python",
   "name": "gcm"
  },
  "language_info": {
   "codemirror_mode": {
    "name": "ipython",
    "version": 3
   },
   "file_extension": ".py",
   "mimetype": "text/x-python",
   "name": "python",
   "nbconvert_exporter": "python",
   "pygments_lexer": "ipython3",
   "version": "3.8.5"
  }
 },
 "nbformat": 4,
 "nbformat_minor": 5
}
