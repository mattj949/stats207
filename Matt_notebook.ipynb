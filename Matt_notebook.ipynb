{
 "cells": [
  {
   "cell_type": "code",
   "execution_count": null,
   "id": "7353e7c1-2a54-44b9-8955-e2c6ec488eb2",
   "metadata": {},
   "outputs": [],
   "source": [
    "import numpy as np\n",
    "import pandas as pd\n",
    "import matplotlib.pyplot as plt"
   ]
  },
  {
   "cell_type": "markdown",
   "id": "78cc6c1d-e97a-4c54-a9c5-b2ce9cf299dd",
   "metadata": {},
   "source": [
    "# Data Cleaning"
   ]
  },
  {
   "cell_type": "markdown",
   "id": "3443a178-a7fe-4cee-bab2-31a0493cb8c7",
   "metadata": {},
   "source": [
    "### We need to decide what kind of time interval we want to use for our predictions. Annual predictions? Monthly? Weekly?\n",
    "\n",
    "### Who knows, maybe SARIMA models work well on quarterly/annual time scales, while an LSTM does the best job predicting 1 week out\n",
    "\n",
    "### But long-term and short-term prediction would be interesting\n",
    "\n",
    "### Rolling window?"
   ]
  },
  {
   "cell_type": "code",
   "execution_count": null,
   "id": "393cbfa4-d91c-42c9-88b5-e708fe456157",
   "metadata": {},
   "outputs": [],
   "source": [
    "#Loading the data\n",
    "corn_raw = pd.read_csv('data/corn.csv', header = 2)\n",
    "oil_raw = pd.read_csv('data/crude.csv', header = 2)\n",
    "wheat_raw = pd.read_csv('data/wheat.csv', header = 2)"
   ]
  },
  {
   "cell_type": "code",
   "execution_count": null,
   "id": "aa8f3489-0bee-420b-969e-5f195cd3588f",
   "metadata": {},
   "outputs": [],
   "source": [
    "# Define a helper function to process the data\n",
    "def process_data(df, label):\n",
    "    \n",
    "    # Convert the Date column from a string to datetime format\n",
    "    df['Date'] = pd.to_datetime(df['Date'])\n",
    "    \n",
    "    # We only want dates prior to this cutoff\n",
    "    df = df.loc[(df['Date'] <= '2021-11-01')]\n",
    "    \n",
    "    # We only want dates after this cutoff\n",
    "    df = df.loc[(df['Date'] >= '1980-01-01')]\n",
    "    \n",
    "    # Carries forward old prices, so we aren't using future information\n",
    "    df.fillna(method = 'ffill', inplace=True) \n",
    "    \n",
    "    # Drop the 'Ticker' column\n",
    "    df = df.drop(columns = ['Ticker'], axis=1)\n",
    "    \n",
    "    # Rename the 'Close' column with the passed label\n",
    "    df = df.rename(columns={'Close': label})\n",
    "    #df = df.drop(columns = 'Close')\n",
    "    \n",
    "    return df"
   ]
  },
  {
   "cell_type": "code",
   "execution_count": null,
   "id": "3cc5e626-5c22-47a5-a96f-25c19d2e2295",
   "metadata": {},
   "outputs": [],
   "source": [
    "# Process all of the data\n",
    "CORN = process_data(corn_raw, 'CORN') \n",
    "OIL = process_data(crude_raw, 'OIL')\n",
    "WHEAT = process_data(wheat_raw, 'WHEAT')\n",
    "\n",
    "# Merge all of the data into one large dataframe\n",
    "from functools import reduce\n",
    "\n",
    "dfs = [CORN, OIL, WHEAT]\n",
    "data = reduce(lambda  left,right: pd.merge(left,right,on=['Date'], how='outer'), dfs)\n",
    "\n",
    "# Sort the data by descending date\n",
    "data = data.sort_values(by='Date', ascending=True).reset_index(drop=True)\n",
    "\n",
    "data"
   ]
  },
  {
   "cell_type": "code",
   "execution_count": null,
   "id": "db1dfae0-ba31-43db-89d1-dcc10461b8c3",
   "metadata": {},
   "outputs": [],
   "source": [
    "def slice_datasets(data, start_date, end_date):\n",
    "\n",
    "    # Get the indices of the start date and the end date\n",
    "    start_index = int(np.where(data[:,0] == pd.to_datetime(start_date))[0])\n",
    "    end_index = int(np.where(data[:,0] == pd.to_datetime(end_date))[0])\n",
    "    \n",
    "    # Get all of the input data (X)\n",
    "    X_data = data.astype('float32')   \n",
    "    \n",
    "    # Get all of the input data (X) for the desired date range\n",
    "    X_data = X_data[start_index:end_index+1]\n",
    "\n",
    "    # Get all of the output data (Y) for the desired date range\n",
    "    y_data = data[start_index:end_index+1,1].astype('float32')\n",
    "    \n",
    "    return X_data, y_data\n",
    "\n",
    "\n",
    "# Convert the data from a pandas dataframe to a numpy array\n",
    "np_data = data.to_numpy()\n",
    "\n",
    "# Split data into train, dev, and test sets\n",
    "X_train, y_train = lstm_data_processing(scaled_data, start_date = '01/01/1970', end_date = '12/31/2008')\n",
    "X_dev, y_dev = lstm_data_processing(scaled_data, start_date = '01/01/2009', end_date = '12/31/2014')\n",
    "X_test, y_test = lstm_data_processing(scaled_data, start_date = '01/01/2015', end_date = '11/01/2021')\n",
    "\n",
    "# Verify the shapes of the input and output data\n",
    "print(X_train.shape)\n",
    "print(y_train.shape)\n",
    "print(X_dev.shape)\n",
    "print(y_dev.shape)\n",
    "print(X_test.shape)\n",
    "print(y_test.shape)"
   ]
  }
 ],
 "metadata": {
  "kernelspec": {
   "display_name": "Python 3 (ipykernel)",
   "language": "python",
   "name": "python3"
  },
  "language_info": {
   "codemirror_mode": {
    "name": "ipython",
    "version": 3
   },
   "file_extension": ".py",
   "mimetype": "text/x-python",
   "name": "python",
   "nbconvert_exporter": "python",
   "pygments_lexer": "ipython3",
   "version": "3.7.11"
  }
 },
 "nbformat": 4,
 "nbformat_minor": 5
}
