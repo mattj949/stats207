{
 "cells": [
  {
   "cell_type": "code",
   "execution_count": 1,
   "id": "f13d47db-567f-4001-acfb-d93549855cc8",
   "metadata": {},
   "outputs": [],
   "source": [
    "import pandas as pd\n",
    "import numpy as np\n",
    "import matplotlib.pyplot as plt\n",
    "from statsmodels.tsa.statespace.sarimax import SARIMAX\n",
    "from statsmodels.tsa.arima.model import ARIMA\n",
    "from statsmodels.tsa.stattools import acf, pacf\n",
    "from statsmodels.graphics.gofplots import qqplot\n",
    "from statsmodels.stats.diagnostic import acorr_ljungbox\n",
    "\n",
    "# Custom functions\n",
    "from utils import *\n",
    "from backtester import *"
   ]
  },
  {
   "cell_type": "code",
   "execution_count": 2,
   "id": "0dc1225b-b15c-423c-965f-fb91d68dc254",
   "metadata": {},
   "outputs": [],
   "source": [
    "%load_ext autoreload\n",
    "%autoreload 2"
   ]
  },
  {
   "cell_type": "markdown",
   "id": "7efd9c66-966c-44f4-9d7c-c744011d10a3",
   "metadata": {},
   "source": [
    "## ARIMA forecasting [DAILY]"
   ]
  },
  {
   "cell_type": "code",
   "execution_count": 3,
   "id": "af18719f-882c-4868-93df-7d3495e0e95a",
   "metadata": {},
   "outputs": [],
   "source": [
    "# Load\n",
    "corn_raw = pd.read_csv('data/crude.csv', header = 2)\n",
    "\n",
    "# Process\n",
    "df = process_data(corn_raw, 'CORN', start_date = '2000-01-01', end_date='2020-01-01') \n",
    "#df"
   ]
  },
  {
   "cell_type": "code",
   "execution_count": 4,
   "id": "c619715a-8dc7-4e54-9808-a0881c9e9ab8",
   "metadata": {},
   "outputs": [],
   "source": [
    "# plt.figure(figsize=(16,9))\n",
    "# plt.plot(df.Date, df.CORN)"
   ]
  },
  {
   "cell_type": "code",
   "execution_count": 5,
   "id": "7539b56c-935c-4467-8874-dbbb169a870f",
   "metadata": {},
   "outputs": [],
   "source": [
    "# Take log values\n",
    "df.loc[:,\"CORN_log\"] = np.log(df.CORN)\n",
    "\n",
    "# Take first order differencing\n",
    "difference_order = 1\n",
    "df[\"CORN_log_diff\"] = df.CORN_log.diff(periods=difference_order)\n",
    "df[\"CORN_diff\"] = df.CORN.diff(periods=difference_order)\n",
    "\n",
    "# Drop first row(s) used up in the differencing (they are NaNs for lags < order) \n",
    "df = df.drop(index=range(difference_order))\n",
    "\n",
    "# Reset Index\n",
    "df = df.reset_index(drop = True)"
   ]
  },
  {
   "cell_type": "markdown",
   "id": "b62a7142-9f41-4707-b703-93a707be3dab",
   "metadata": {},
   "source": [
    "## First order differencing of log prices"
   ]
  },
  {
   "cell_type": "code",
   "execution_count": 6,
   "id": "b9924044-bf11-4cd7-a887-0343fe204e41",
   "metadata": {},
   "outputs": [
    {
     "data": {
      "image/png": "[encoded data removed]",
      "text/plain": [
       "<Figure size 432x288 with 1 Axes>"
      ]
     },
     "metadata": {
      "needs_background": "light"
     },
     "output_type": "display_data"
    }
   ],
   "source": [
    "plt.plot(df.Date, df.CORN_log_diff)\n",
    "plt.title(\"Crude Oil First order diff.\")\n",
    "plt.xticks(rotation=45)\n",
    "plt.show()"
   ]
  },
  {
   "cell_type": "markdown",
   "id": "e42e2cd2-3d4c-4c04-b406-fa2c6ad29b17",
   "metadata": {},
   "source": [
    "## ACF:"
   ]
  },
  {
   "cell_type": "code",
   "execution_count": null,
   "id": "da0930ec-947e-44a4-a7e7-118565eae3ff",
   "metadata": {},
   "outputs": [],
   "source": [
    "acf_coeffs, acf_conf_interval = acf(df.CORN_log_diff, nlags=100, alpha = 0.01)\n",
    "\n",
    "# We don't care about lag=0, so get rid of those \n",
    "acf_coeffs = acf_coeffs[1:]\n",
    "acf_conf_interval = acf_conf_interval[1:,:]\n",
    "\n",
    "# Subtract off mean to get error bar value\n",
    "acf_error_bars = np.abs(acf_conf_interval[:,0] - acf_coeffs)\n",
    "acf_sig_level = np.average(acf_error_bars)"
   ]
  },
  {
   "cell_type": "code",
   "execution_count": null,
   "id": "c57b6840-b932-4678-b179-e6d74d2e45e7",
   "metadata": {},
   "outputs": [],
   "source": [
    "acf_xs = np.arange(1,len(acf_coeffs)+1, 1)\n",
    "plt.figure(figsize=(12,9))\n",
    "#plt.bar(x=acf_xs, height=acf_coeffs, yerr=acf_error_bars)\n",
    "plt.bar(x=acf_xs, height=acf_coeffs)\n",
    "plt.axhline(y=acf_sig_level, color='r', linestyle='--')\n",
    "plt.axhline(y=(-1*acf_sig_level), color='r', linestyle='--')\n",
    "plt.title(\"ACF of first differenced log prices + 99% conf interval\")\n",
    "plt.show()"
   ]
  },
  {
   "cell_type": "markdown",
   "id": "cbf8c0e7-e466-4206-a523-9783cdb1f36c",
   "metadata": {},
   "source": [
    "#### Appear to be some statistically significant lags at the 99% confidence level\n",
    "#### Might be significant... but absolute value of the correlation is still tiny"
   ]
  },
  {
   "cell_type": "markdown",
   "id": "d30d9d2f-5150-41f3-b771-31d4029cba2e",
   "metadata": {},
   "source": [
    "## PACF:"
   ]
  },
  {
   "cell_type": "code",
   "execution_count": null,
   "id": "85c30520-2b06-464a-9e6c-ec8f705f1782",
   "metadata": {},
   "outputs": [],
   "source": [
    "pacf_coeffs, pacf_conf_interval = pacf(df.CORN_log_diff, nlags=100, alpha = 0.01)\n",
    "\n",
    "# We don't care about lag=0, so get rid of those \n",
    "pacf_coeffs = pacf_coeffs[1:]\n",
    "pacf_conf_interval = pacf_conf_interval[1:,:]\n",
    "\n",
    "# Subtract off mean to get error bar value\n",
    "pacf_error_bars = np.abs(pacf_conf_interval[:,0] - pacf_coeffs)\n",
    "pacf_sig_level = np.average(pacf_error_bars)"
   ]
  },
  {
   "cell_type": "code",
   "execution_count": null,
   "id": "177295af-752d-4ebb-9e22-35d6e985c628",
   "metadata": {},
   "outputs": [],
   "source": [
    "pacf_xs = np.arange(1,len(pacf_coeffs)+1, 1)\n",
    "plt.figure(figsize=(12,9))\n",
    "#plt.bar(x=pacf_xs, height=pacf_coeffs, yerr=pacf_error_bars)\n",
    "plt.bar(x=pacf_xs, height=pacf_coeffs)\n",
    "plt.axhline(y=pacf_sig_level, color='r', linestyle='--')\n",
    "plt.axhline(y=(-1*pacf_sig_level), color='r', linestyle='--')\n",
    "plt.title(\"PACF of first differenced log prices + 99% conf interval\")\n",
    "plt.show()"
   ]
  },
  {
   "cell_type": "markdown",
   "id": "ca38bbc3-5092-421a-a1e1-42a2976a8407",
   "metadata": {},
   "source": [
    "## MA(1) on first difference"
   ]
  },
  {
   "cell_type": "code",
   "execution_count": null,
   "id": "b1637123-d0c3-458c-8cd7-b63bf3cbd909",
   "metadata": {},
   "outputs": [],
   "source": [
    "model = ARIMA(df.CORN_log, order=(0,1,1))\n",
    "results = model.fit()    \n",
    "\n",
    "print(\"AIC: \" + str(results.aic))\n",
    "print(\"BIC: \" + str(results.bic))\n",
    "    \n",
    "\n",
    "plt.plot(results.resid)\n",
    "plt.title(\"Time series plot of residuals\")\n",
    "plt.show()\n",
    "\n",
    "acf_list = acf(results.resid)\n",
    "plt.bar(np.arange(0,len(acf_list), 1), acf_list)\n",
    "plt.title(\"ACF of residuals\"); plt.show()\n",
    "plt.show()\n",
    "\n",
    "\n",
    "fig = qqplot(results.resid, line  = 's')\n",
    "plt.title(\"Q-Q plot of residuals\")\n",
    "plt.show()\n",
    "\n",
    "LB_stat, LB_stat_p_val = acorr_ljungbox(results.resid, lags=np.arange(1,20,1), return_df = False)\n",
    "#print(\"Ljung-Box Statistic: \" + str(LB_stat))\n",
    "#print(\"Ljung-Box Statistic p-val: \" + str(LB_stat_p_val))\n",
    "plt.bar(np.arange(1,20,1), LB_stat_p_val)\n",
    "plt.xticks(ticks = np.arange(1,20,1))\n",
    "plt.ylim([0,1])\n",
    "plt.title(\"Ljung-Box Stat p-vals\")\n",
    "plt.show()"
   ]
  },
  {
   "cell_type": "markdown",
   "id": "ffca89b6-d3a3-4e65-9bdf-2c7dbe4d440d",
   "metadata": {},
   "source": [
    "## AR(1) on first difference"
   ]
  },
  {
   "cell_type": "code",
   "execution_count": null,
   "id": "aca6fa15-9b7f-43b6-a6fc-45b9fe96cd62",
   "metadata": {},
   "outputs": [],
   "source": [
    "model = ARIMA(df.CORN_log, order=(3,1,0))\n",
    "results = model.fit()    \n",
    "\n",
    "print(\"AIC: \" + str(results.aic))\n",
    "print(\"BIC: \" + str(results.bic))\n",
    "    \n",
    "\n",
    "plt.plot(results.resid)\n",
    "plt.title(\"Time series plot of residuals\")\n",
    "plt.show()\n",
    "\n",
    "acf_list = acf(results.resid)\n",
    "plt.bar(np.arange(0,len(acf_list), 1), acf_list)\n",
    "plt.title(\"ACF of residuals\"); plt.show()\n",
    "plt.show()\n",
    "\n",
    "\n",
    "fig = qqplot(results.resid, line  = 's')\n",
    "plt.title(\"Q-Q plot of residuals\")\n",
    "plt.show()\n",
    "\n",
    "LB_stat, LB_stat_p_val = acorr_ljungbox(results.resid, lags=np.arange(1,20,1), return_df = False)\n",
    "#print(\"Ljung-Box Statistic: \" + str(LB_stat))\n",
    "#print(\"Ljung-Box Statistic p-val: \" + str(LB_stat_p_val))\n",
    "plt.bar(np.arange(1,20,1), LB_stat_p_val)\n",
    "plt.xticks(ticks = np.arange(1,20,1))\n",
    "plt.ylim([0,1])\n",
    "plt.title(\"Ljung-Box Stat p-vals\")\n",
    "plt.show()"
   ]
  },
  {
   "cell_type": "markdown",
   "id": "40b64a1a-407f-4fc2-98f7-7fa8b9cd8c4d",
   "metadata": {},
   "source": [
    "## ARIMA(p,1,q)"
   ]
  },
  {
   "cell_type": "code",
   "execution_count": null,
   "id": "732938fa-f193-48cf-a014-c3a6cdf77fb7",
   "metadata": {},
   "outputs": [],
   "source": [
    "list_of_aics = []\n",
    "list_of_bics = []\n",
    "list_of_info = []\n",
    "\n",
    "for p in np.arange(0,10,1):\n",
    "    for q in np.arange(0,10,1):\n",
    "        model = ARIMA(df.CORN_log, order=(p,1,q))\n",
    "        results = model.fit()   \n",
    "        \n",
    "        myinfo = \"Params: p=\" + str(p) + \" q=\" + str(q)\n",
    "        #print(myinfo)\n",
    "        #print(\"AIC: \" + str(results.aic))\n",
    "        #print(\"BIC: \" + str(results.bic))\n",
    "        list_of_info += [myinfo]\n",
    "        list_of_aics += [results.aic]\n",
    "        list_of_bics += [results.bic]\n",
    "        \n",
    "        \n",
    "minaic = np.argmin(list_of_aics)\n",
    "print(\"min aic: \" + list_of_info[minaic])\n",
    "print(\"aic: \" + str(list_of_aics[minaic]))\n",
    "        \n",
    "minbic = np.argmin(list_of_bics)\n",
    "print(\"min bic: \" + list_of_info[minbic])\n",
    "print(\"bic: \" + str(list_of_bics[minbic]))\n",
    "\n",
    "\n",
    "# plt.plot(results.resid)\n",
    "# plt.title(\"Time series plot of residuals\")\n",
    "# plt.show()\n",
    "\n",
    "# acf_list = acf(results.resid)\n",
    "# plt.bar(np.arange(0,len(acf_list), 1), acf_list)\n",
    "# plt.title(\"ACF of residuals\"); plt.show()\n",
    "# plt.show()\n",
    "\n",
    "\n",
    "# fig = qqplot(results.resid, line  = 's')\n",
    "# plt.title(\"Q-Q plot of residuals\")\n",
    "# plt.show()\n",
    "\n",
    "# LB_stat, LB_stat_p_val = acorr_ljungbox(results.resid, lags=np.arange(1,20,1), return_df = False)\n",
    "# #print(\"Ljung-Box Statistic: \" + str(LB_stat))\n",
    "# #print(\"Ljung-Box Statistic p-val: \" + str(LB_stat_p_val))\n",
    "# plt.bar(np.arange(1,20,1), LB_stat_p_val)\n",
    "# plt.xticks(ticks = np.arange(1,20,1))\n",
    "# plt.ylim([0,1])\n",
    "# plt.title(\"Ljung-Box Stat p-vals\")\n",
    "# plt.show()"
   ]
  },
  {
   "cell_type": "code",
   "execution_count": null,
   "id": "001cdcba-71ce-44f5-a44a-a06d2cc90a5f",
   "metadata": {},
   "outputs": [],
   "source": [
    "plt.plot(results.resid[1:])\n",
    "plt.title(\"Time series plot of residuals\")\n",
    "plt.show()\n",
    "\n",
    "acf_list = acf(results.resid)\n",
    "plt.bar(np.arange(0,len(acf_list), 1), acf_list)\n",
    "plt.title(\"ACF of residuals\"); plt.show()\n",
    "plt.show()\n",
    "\n",
    "\n",
    "acf_coeffs, acf_conf_interval = acf(results.resid, alpha = 0.01)\n",
    "\n",
    "# We don't care about lag=0, so get rid of those \n",
    "acf_coeffs = acf_coeffs[1:]\n",
    "acf_conf_interval = acf_conf_interval[1:,:]\n",
    "\n",
    "# Subtract off mean to get error bar value\n",
    "acf_error_bars = np.abs(acf_conf_interval[:,0] - acf_coeffs)\n",
    "acf_sig_level = np.average(acf_error_bars)\n",
    "\n",
    "acf_xs = np.arange(1,len(acf_coeffs)+1, 1)\n",
    "plt.bar(x=acf_xs, height=acf_coeffs)\n",
    "plt.axhline(y=acf_sig_level, color='r', linestyle='--')\n",
    "plt.axhline(y=(-1*acf_sig_level), color='r', linestyle='--')\n",
    "plt.title(\"ACF of residuals\")\n",
    "plt.show()\n",
    "\n",
    "\n",
    "\n",
    "\n",
    "\n",
    "fig = qqplot(results.resid, line  = 's')\n",
    "plt.title(\"Q-Q plot of residuals\")\n",
    "plt.show()\n",
    "\n",
    "LB_stat, LB_stat_p_val = acorr_ljungbox(results.resid, lags=np.arange(1,20,1), return_df = False)\n",
    "#print(\"Ljung-Box Statistic: \" + str(LB_stat))\n",
    "#print(\"Ljung-Box Statistic p-val: \" + str(LB_stat_p_val))\n",
    "plt.bar(np.arange(1,20,1), LB_stat_p_val)\n",
    "plt.xticks(ticks = np.arange(1,20,1))\n",
    "plt.ylim([0,1])\n",
    "plt.title(\"Ljung-Box Stat p-vals\")\n",
    "plt.show()"
   ]
  },
  {
   "cell_type": "markdown",
   "id": "449d1b89-2892-47f4-9b24-abb4eff2a4cb",
   "metadata": {},
   "source": [
    "# Simulation\n",
    "### One week ahead forecasting"
   ]
  },
  {
   "cell_type": "markdown",
   "id": "e16a8ba4-7932-46d6-85cb-ab1be9e7145a",
   "metadata": {},
   "source": [
    "# MODEL TAKES EXCESSIVELY LONG TO FIT"
   ]
  },
  {
   "cell_type": "code",
   "execution_count": null,
   "id": "6a496e0d-a3f7-4297-ab09-c0d2f2c72e3d",
   "metadata": {},
   "outputs": [],
   "source": [
    "# Rolling window\n",
    "training_days = 30\n",
    "\n",
    "true_values = []\n",
    "predicted_values = []\n",
    "dates = []\n",
    "\n",
    "start = 0\n",
    "\n",
    "## THIS WILL TAKE A LONG TIME\n",
    "end = int((df.shape[0] - training_days) / 5) # 5 trading days in a week\n",
    "\n",
    "for i in range(start, end):\n",
    "    training_df = df.iloc[(5*i):(5*i)+training_days]\n",
    "    test_df = df.iloc[(5*i)+training_days+5] # One week ahead\n",
    "    \n",
    "    # ARIMA on log prices\n",
    "    model = ARIMA(training_df.CORN_log, order=(1,1,1))\n",
    "    results = model.fit()\n",
    "    one_week_ahead_forecast = results.get_forecast(5).summary_frame().iloc[-1,0]\n",
    "    \n",
    "    true_values.append(test_df.CORN_log)\n",
    "    predicted_values.append(one_week_ahead_forecast)\n",
    "    dates.append(test_df.Date)"
   ]
  },
  {
   "cell_type": "code",
   "execution_count": null,
   "id": "da86d616-0b9f-42d4-81be-0f69f10dc405",
   "metadata": {},
   "outputs": [],
   "source": [
    "plt.figure(figsize=(18,9))\n",
    "plt.plot(dates, true_values, dates, predicted_values)\n",
    "plt.legend([\"True Values\", \"Predicted Values\"])\n",
    "plt.title(\"Corn ARIMA one-step-ahead forecasting\")\n",
    "plt.show()"
   ]
  },
  {
   "cell_type": "code",
   "execution_count": null,
   "id": "8ddeba8e-12d4-4e02-90eb-cd134331e1ff",
   "metadata": {},
   "outputs": [],
   "source": [
    "strategy, long_only = backtest(forecast_for_each_day=predicted_values, price_series=true_values)"
   ]
  },
  {
   "cell_type": "markdown",
   "id": "658faa55-e504-4c67-9142-873ce8fd9d17",
   "metadata": {},
   "source": [
    "# Multi-variate version"
   ]
  },
  {
   "cell_type": "markdown",
   "id": "cec88127-4b94-487f-b7df-26da0526a4e8",
   "metadata": {},
   "source": [
    "### Turn into ARIMAX by incorporating other commodities? Dependent: Corn, Independent: Corn, Wheat, Soybean, "
   ]
  },
  {
   "cell_type": "markdown",
   "id": "1990bd9a-7354-4ed7-b451-a00a7a53e6e1",
   "metadata": {},
   "source": [
    "predicted_values"
   ]
  },
  {
   "cell_type": "code",
   "execution_count": null,
   "id": "7cce9914-7bee-4573-b1ba-4adcb4a4b1f8",
   "metadata": {},
   "outputs": [],
   "source": []
  }
 ],
 "metadata": {
  "kernelspec": {
   "display_name": "Python 3 (ipykernel)",
   "language": "python",
   "name": "python3"
  },
  "language_info": {
   "codemirror_mode": {
    "name": "ipython",
    "version": 3
   },
   "file_extension": ".py",
   "mimetype": "text/x-python",
   "name": "python",
   "nbconvert_exporter": "python",
   "pygments_lexer": "ipython3",
   "version": "3.9.7"
  }
 },
 "nbformat": 4,
 "nbformat_minor": 5
}
